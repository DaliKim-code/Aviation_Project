{
 "cells": [
  {
   "cell_type": "markdown",
   "metadata": {},
   "source": [
    "# Aviation Accident Database Data Analysis"
   ]
  },
  {
   "cell_type": "markdown",
   "metadata": {},
   "source": [
    "## Introduction\n",
    "The company is exploring the aviation industry and needs to assess the risks of operating aircraft. Using the data provided, the analysis will identify patterns in accidents, Injury severity and aircraft damage. Our main goal is to provide data-driven recommendations on the safest aircraft models to help guide purchase decision and minimise risk"
   ]
  },
  {
   "cell_type": "markdown",
   "metadata": {},
   "source": [
    "Based on the goal of this project, and the data provided, the following are some key objectives I will cover:\n",
    "1. To identify low risk aircraft models - I will analyze accident rates per aircraft model to determine which ones are statistically the safest. \n",
    "    - Key Data columns: 'Make', 'Model', 'Aircraft.Category'. I will identify number of accidents per model, and calculate it per operational year\n",
    "2.  To examine factors contributing to these accidents. \n",
    "    - Key Data columns: 'Weather.Condition', 'Broad.phase.of.flight', 'Number.of.Engines', 'Engine.Type'  and compare them to 'Injury.Severity', 'Total.Fatal.Injuries', and 'Total.Serious.Injuries'\n",
    "3. To assess the impact weather conditions have, to these accidents and/or incidents\n",
    "    - Key Data columns: 'Weather.Condition', 'Event.Id'\n",
    "4. To assess the safety of passangers based on Injuries\n",
    "    - Key Data columns: 'Total.Fatal.Injuries', 'Total.Serious.Injuries', 'Total.Minor.Injuries', 'Total.Uninjured', for each aircraft 'Model'\n",
    "5. To evaluate aircraft Damage and Injuries\n",
    "    - Key data columns: 'Aircraft.damage', 'Total.Fatal.Injuries', 'Total.Serious.Injuries'\n",
    "6.  To track changes in accident frequency over time.\n",
    "    - This will help us understand whether aviation safety has improved over the years\n",
    "    - Key data columns: 'Event.Date', Event.Id'"
   ]
  },
  {
   "cell_type": "markdown",
   "metadata": {},
   "source": [
    "## 1.0 Importing our Libraries"
   ]
  },
  {
   "cell_type": "code",
   "execution_count": 169,
   "metadata": {},
   "outputs": [],
   "source": [
    "#Importing the necessary libraries\n",
    "import pandas as pd\n",
    "import matplotlib.pyplot as plt\n",
    "import numpy as np\n",
    "import seaborn as sns\n"
   ]
  },
  {
   "cell_type": "markdown",
   "metadata": {},
   "source": [
    "## 1.1 Reading the Dataset from our CSV files"
   ]
  },
  {
   "cell_type": "markdown",
   "metadata": {},
   "source": [
    "The two datasets contain information from 1948 to 2023 on civil accidents and selected incidents mostly within the United States, as well as state names and their abbreviations\n",
    "\n",
    "* The link to the datasets is: [Link](https://www.kaggle.com/datasets/khsamaha/aviation-accident-database-synopses?select=USState_Codes.csv)"
   ]
  },
  {
   "cell_type": "code",
   "execution_count": 170,
   "metadata": {},
   "outputs": [],
   "source": [
    "#To read the AviationData.csv file:\n",
    "Aviation_data = pd.read_csv(\"AviationData.csv\", encoding=\"latin1\", low_memory=False)\n",
    "\n",
    "#To open the USState_Code.csv file:\n",
    "state_codes = pd.read_csv(\"USState_Codes.csv\")\n",
    "\n"
   ]
  },
  {
   "cell_type": "markdown",
   "metadata": {},
   "source": [
    "# 1.2 Prevewing our Datasets"
   ]
  },
  {
   "cell_type": "code",
   "execution_count": 171,
   "metadata": {},
   "outputs": [
    {
     "data": {
      "text/html": [
       "<div>\n",
       "<style scoped>\n",
       "    .dataframe tbody tr th:only-of-type {\n",
       "        vertical-align: middle;\n",
       "    }\n",
       "\n",
       "    .dataframe tbody tr th {\n",
       "        vertical-align: top;\n",
       "    }\n",
       "\n",
       "    .dataframe thead th {\n",
       "        text-align: right;\n",
       "    }\n",
       "</style>\n",
       "<table border=\"1\" class=\"dataframe\">\n",
       "  <thead>\n",
       "    <tr style=\"text-align: right;\">\n",
       "      <th></th>\n",
       "      <th>Event.Id</th>\n",
       "      <th>Investigation.Type</th>\n",
       "      <th>Accident.Number</th>\n",
       "      <th>Event.Date</th>\n",
       "      <th>Location</th>\n",
       "      <th>Country</th>\n",
       "      <th>Latitude</th>\n",
       "      <th>Longitude</th>\n",
       "      <th>Airport.Code</th>\n",
       "      <th>Airport.Name</th>\n",
       "      <th>...</th>\n",
       "      <th>Purpose.of.flight</th>\n",
       "      <th>Air.carrier</th>\n",
       "      <th>Total.Fatal.Injuries</th>\n",
       "      <th>Total.Serious.Injuries</th>\n",
       "      <th>Total.Minor.Injuries</th>\n",
       "      <th>Total.Uninjured</th>\n",
       "      <th>Weather.Condition</th>\n",
       "      <th>Broad.phase.of.flight</th>\n",
       "      <th>Report.Status</th>\n",
       "      <th>Publication.Date</th>\n",
       "    </tr>\n",
       "  </thead>\n",
       "  <tbody>\n",
       "    <tr>\n",
       "      <th>0</th>\n",
       "      <td>20001218X45444</td>\n",
       "      <td>Accident</td>\n",
       "      <td>SEA87LA080</td>\n",
       "      <td>1948-10-24</td>\n",
       "      <td>MOOSE CREEK, ID</td>\n",
       "      <td>United States</td>\n",
       "      <td>NaN</td>\n",
       "      <td>NaN</td>\n",
       "      <td>NaN</td>\n",
       "      <td>NaN</td>\n",
       "      <td>...</td>\n",
       "      <td>Personal</td>\n",
       "      <td>NaN</td>\n",
       "      <td>2.0</td>\n",
       "      <td>0.0</td>\n",
       "      <td>0.0</td>\n",
       "      <td>0.0</td>\n",
       "      <td>UNK</td>\n",
       "      <td>Cruise</td>\n",
       "      <td>Probable Cause</td>\n",
       "      <td>NaN</td>\n",
       "    </tr>\n",
       "    <tr>\n",
       "      <th>1</th>\n",
       "      <td>20001218X45447</td>\n",
       "      <td>Accident</td>\n",
       "      <td>LAX94LA336</td>\n",
       "      <td>1962-07-19</td>\n",
       "      <td>BRIDGEPORT, CA</td>\n",
       "      <td>United States</td>\n",
       "      <td>NaN</td>\n",
       "      <td>NaN</td>\n",
       "      <td>NaN</td>\n",
       "      <td>NaN</td>\n",
       "      <td>...</td>\n",
       "      <td>Personal</td>\n",
       "      <td>NaN</td>\n",
       "      <td>4.0</td>\n",
       "      <td>0.0</td>\n",
       "      <td>0.0</td>\n",
       "      <td>0.0</td>\n",
       "      <td>UNK</td>\n",
       "      <td>Unknown</td>\n",
       "      <td>Probable Cause</td>\n",
       "      <td>19-09-1996</td>\n",
       "    </tr>\n",
       "    <tr>\n",
       "      <th>2</th>\n",
       "      <td>20061025X01555</td>\n",
       "      <td>Accident</td>\n",
       "      <td>NYC07LA005</td>\n",
       "      <td>1974-08-30</td>\n",
       "      <td>Saltville, VA</td>\n",
       "      <td>United States</td>\n",
       "      <td>36.922223</td>\n",
       "      <td>-81.878056</td>\n",
       "      <td>NaN</td>\n",
       "      <td>NaN</td>\n",
       "      <td>...</td>\n",
       "      <td>Personal</td>\n",
       "      <td>NaN</td>\n",
       "      <td>3.0</td>\n",
       "      <td>NaN</td>\n",
       "      <td>NaN</td>\n",
       "      <td>NaN</td>\n",
       "      <td>IMC</td>\n",
       "      <td>Cruise</td>\n",
       "      <td>Probable Cause</td>\n",
       "      <td>26-02-2007</td>\n",
       "    </tr>\n",
       "    <tr>\n",
       "      <th>3</th>\n",
       "      <td>20001218X45448</td>\n",
       "      <td>Accident</td>\n",
       "      <td>LAX96LA321</td>\n",
       "      <td>1977-06-19</td>\n",
       "      <td>EUREKA, CA</td>\n",
       "      <td>United States</td>\n",
       "      <td>NaN</td>\n",
       "      <td>NaN</td>\n",
       "      <td>NaN</td>\n",
       "      <td>NaN</td>\n",
       "      <td>...</td>\n",
       "      <td>Personal</td>\n",
       "      <td>NaN</td>\n",
       "      <td>2.0</td>\n",
       "      <td>0.0</td>\n",
       "      <td>0.0</td>\n",
       "      <td>0.0</td>\n",
       "      <td>IMC</td>\n",
       "      <td>Cruise</td>\n",
       "      <td>Probable Cause</td>\n",
       "      <td>12-09-2000</td>\n",
       "    </tr>\n",
       "    <tr>\n",
       "      <th>4</th>\n",
       "      <td>20041105X01764</td>\n",
       "      <td>Accident</td>\n",
       "      <td>CHI79FA064</td>\n",
       "      <td>1979-08-02</td>\n",
       "      <td>Canton, OH</td>\n",
       "      <td>United States</td>\n",
       "      <td>NaN</td>\n",
       "      <td>NaN</td>\n",
       "      <td>NaN</td>\n",
       "      <td>NaN</td>\n",
       "      <td>...</td>\n",
       "      <td>Personal</td>\n",
       "      <td>NaN</td>\n",
       "      <td>1.0</td>\n",
       "      <td>2.0</td>\n",
       "      <td>NaN</td>\n",
       "      <td>0.0</td>\n",
       "      <td>VMC</td>\n",
       "      <td>Approach</td>\n",
       "      <td>Probable Cause</td>\n",
       "      <td>16-04-1980</td>\n",
       "    </tr>\n",
       "  </tbody>\n",
       "</table>\n",
       "<p>5 rows × 31 columns</p>\n",
       "</div>"
      ],
      "text/plain": [
       "         Event.Id Investigation.Type Accident.Number  Event.Date  \\\n",
       "0  20001218X45444           Accident      SEA87LA080  1948-10-24   \n",
       "1  20001218X45447           Accident      LAX94LA336  1962-07-19   \n",
       "2  20061025X01555           Accident      NYC07LA005  1974-08-30   \n",
       "3  20001218X45448           Accident      LAX96LA321  1977-06-19   \n",
       "4  20041105X01764           Accident      CHI79FA064  1979-08-02   \n",
       "\n",
       "          Location        Country   Latitude   Longitude Airport.Code  \\\n",
       "0  MOOSE CREEK, ID  United States        NaN         NaN          NaN   \n",
       "1   BRIDGEPORT, CA  United States        NaN         NaN          NaN   \n",
       "2    Saltville, VA  United States  36.922223  -81.878056          NaN   \n",
       "3       EUREKA, CA  United States        NaN         NaN          NaN   \n",
       "4       Canton, OH  United States        NaN         NaN          NaN   \n",
       "\n",
       "  Airport.Name  ... Purpose.of.flight Air.carrier Total.Fatal.Injuries  \\\n",
       "0          NaN  ...          Personal         NaN                  2.0   \n",
       "1          NaN  ...          Personal         NaN                  4.0   \n",
       "2          NaN  ...          Personal         NaN                  3.0   \n",
       "3          NaN  ...          Personal         NaN                  2.0   \n",
       "4          NaN  ...          Personal         NaN                  1.0   \n",
       "\n",
       "  Total.Serious.Injuries Total.Minor.Injuries Total.Uninjured  \\\n",
       "0                    0.0                  0.0             0.0   \n",
       "1                    0.0                  0.0             0.0   \n",
       "2                    NaN                  NaN             NaN   \n",
       "3                    0.0                  0.0             0.0   \n",
       "4                    2.0                  NaN             0.0   \n",
       "\n",
       "  Weather.Condition  Broad.phase.of.flight   Report.Status Publication.Date  \n",
       "0               UNK                 Cruise  Probable Cause              NaN  \n",
       "1               UNK                Unknown  Probable Cause       19-09-1996  \n",
       "2               IMC                 Cruise  Probable Cause       26-02-2007  \n",
       "3               IMC                 Cruise  Probable Cause       12-09-2000  \n",
       "4               VMC               Approach  Probable Cause       16-04-1980  \n",
       "\n",
       "[5 rows x 31 columns]"
      ]
     },
     "execution_count": 171,
     "metadata": {},
     "output_type": "execute_result"
    }
   ],
   "source": [
    "#To inspect the first 5 rows of data in AviationData.csv:\n",
    "Aviation_data.head()"
   ]
  },
  {
   "cell_type": "code",
   "execution_count": 172,
   "metadata": {},
   "outputs": [
    {
     "data": {
      "text/html": [
       "<div>\n",
       "<style scoped>\n",
       "    .dataframe tbody tr th:only-of-type {\n",
       "        vertical-align: middle;\n",
       "    }\n",
       "\n",
       "    .dataframe tbody tr th {\n",
       "        vertical-align: top;\n",
       "    }\n",
       "\n",
       "    .dataframe thead th {\n",
       "        text-align: right;\n",
       "    }\n",
       "</style>\n",
       "<table border=\"1\" class=\"dataframe\">\n",
       "  <thead>\n",
       "    <tr style=\"text-align: right;\">\n",
       "      <th></th>\n",
       "      <th>US_State</th>\n",
       "      <th>Abbreviation</th>\n",
       "    </tr>\n",
       "  </thead>\n",
       "  <tbody>\n",
       "    <tr>\n",
       "      <th>0</th>\n",
       "      <td>Alabama</td>\n",
       "      <td>AL</td>\n",
       "    </tr>\n",
       "    <tr>\n",
       "      <th>1</th>\n",
       "      <td>Alaska</td>\n",
       "      <td>AK</td>\n",
       "    </tr>\n",
       "    <tr>\n",
       "      <th>2</th>\n",
       "      <td>Arizona</td>\n",
       "      <td>AZ</td>\n",
       "    </tr>\n",
       "    <tr>\n",
       "      <th>3</th>\n",
       "      <td>Arkansas</td>\n",
       "      <td>AR</td>\n",
       "    </tr>\n",
       "    <tr>\n",
       "      <th>4</th>\n",
       "      <td>California</td>\n",
       "      <td>CA</td>\n",
       "    </tr>\n",
       "  </tbody>\n",
       "</table>\n",
       "</div>"
      ],
      "text/plain": [
       "     US_State Abbreviation\n",
       "0     Alabama           AL\n",
       "1      Alaska           AK\n",
       "2     Arizona           AZ\n",
       "3    Arkansas           AR\n",
       "4  California           CA"
      ]
     },
     "execution_count": 172,
     "metadata": {},
     "output_type": "execute_result"
    }
   ],
   "source": [
    "#To inspect the first 5 rows of data in USState_Codes.csv:\n",
    "state_codes.head()"
   ]
  },
  {
   "cell_type": "markdown",
   "metadata": {},
   "source": [
    "## 1.3 Information about out Datasets"
   ]
  },
  {
   "cell_type": "code",
   "execution_count": 173,
   "metadata": {},
   "outputs": [
    {
     "name": "stdout",
     "output_type": "stream",
     "text": [
      "<class 'pandas.core.frame.DataFrame'>\n",
      "RangeIndex: 88889 entries, 0 to 88888\n",
      "Data columns (total 31 columns):\n",
      " #   Column                  Non-Null Count  Dtype  \n",
      "---  ------                  --------------  -----  \n",
      " 0   Event.Id                88889 non-null  object \n",
      " 1   Investigation.Type      88889 non-null  object \n",
      " 2   Accident.Number         88889 non-null  object \n",
      " 3   Event.Date              88889 non-null  object \n",
      " 4   Location                88837 non-null  object \n",
      " 5   Country                 88663 non-null  object \n",
      " 6   Latitude                34382 non-null  object \n",
      " 7   Longitude               34373 non-null  object \n",
      " 8   Airport.Code            50132 non-null  object \n",
      " 9   Airport.Name            52704 non-null  object \n",
      " 10  Injury.Severity         87889 non-null  object \n",
      " 11  Aircraft.damage         85695 non-null  object \n",
      " 12  Aircraft.Category       32287 non-null  object \n",
      " 13  Registration.Number     87507 non-null  object \n",
      " 14  Make                    88826 non-null  object \n",
      " 15  Model                   88797 non-null  object \n",
      " 16  Amateur.Built           88787 non-null  object \n",
      " 17  Number.of.Engines       82805 non-null  float64\n",
      " 18  Engine.Type             81793 non-null  object \n",
      " 19  FAR.Description         32023 non-null  object \n",
      " 20  Schedule                12582 non-null  object \n",
      " 21  Purpose.of.flight       82697 non-null  object \n",
      " 22  Air.carrier             16648 non-null  object \n",
      " 23  Total.Fatal.Injuries    77488 non-null  float64\n",
      " 24  Total.Serious.Injuries  76379 non-null  float64\n",
      " 25  Total.Minor.Injuries    76956 non-null  float64\n",
      " 26  Total.Uninjured         82977 non-null  float64\n",
      " 27  Weather.Condition       84397 non-null  object \n",
      " 28  Broad.phase.of.flight   61724 non-null  object \n",
      " 29  Report.Status           82505 non-null  object \n",
      " 30  Publication.Date        75118 non-null  object \n",
      "dtypes: float64(5), object(26)\n",
      "memory usage: 21.0+ MB\n",
      "None\n"
     ]
    }
   ],
   "source": [
    "# To get more information about the characteristics of the datasets, i.e number of columns, rows, null values, etc\n",
    "print(Aviation_data.info())"
   ]
  },
  {
   "cell_type": "code",
   "execution_count": 174,
   "metadata": {},
   "outputs": [
    {
     "name": "stdout",
     "output_type": "stream",
     "text": [
      "<class 'pandas.core.frame.DataFrame'>\n",
      "RangeIndex: 62 entries, 0 to 61\n",
      "Data columns (total 2 columns):\n",
      " #   Column        Non-Null Count  Dtype \n",
      "---  ------        --------------  ----- \n",
      " 0   US_State      62 non-null     object\n",
      " 1   Abbreviation  62 non-null     object\n",
      "dtypes: object(2)\n",
      "memory usage: 1.1+ KB\n",
      "None\n"
     ]
    }
   ],
   "source": [
    "print(state_codes.info())"
   ]
  },
  {
   "cell_type": "code",
   "execution_count": 175,
   "metadata": {},
   "outputs": [
    {
     "name": "stdout",
     "output_type": "stream",
     "text": [
      "Index(['Event.Id', 'Investigation.Type', 'Accident.Number', 'Event.Date',\n",
      "       'Location', 'Country', 'Latitude', 'Longitude', 'Airport.Code',\n",
      "       'Airport.Name', 'Injury.Severity', 'Aircraft.damage',\n",
      "       'Aircraft.Category', 'Registration.Number', 'Make', 'Model',\n",
      "       'Amateur.Built', 'Number.of.Engines', 'Engine.Type', 'FAR.Description',\n",
      "       'Schedule', 'Purpose.of.flight', 'Air.carrier', 'Total.Fatal.Injuries',\n",
      "       'Total.Serious.Injuries', 'Total.Minor.Injuries', 'Total.Uninjured',\n",
      "       'Weather.Condition', 'Broad.phase.of.flight', 'Report.Status',\n",
      "       'Publication.Date'],\n",
      "      dtype='object')\n"
     ]
    }
   ],
   "source": [
    "#To see all the columns in the dataset:\n",
    "print(Aviation_data.columns)"
   ]
  },
  {
   "cell_type": "code",
   "execution_count": 176,
   "metadata": {},
   "outputs": [],
   "source": [
    "Aviation_data1 = Aviation_data.copy(deep=True)"
   ]
  },
  {
   "cell_type": "markdown",
   "metadata": {},
   "source": [
    "## 1.4 Data Cleaning"
   ]
  },
  {
   "cell_type": "markdown",
   "metadata": {},
   "source": [
    "### 1.4.a Check for Null Values"
   ]
  },
  {
   "cell_type": "code",
   "execution_count": 177,
   "metadata": {},
   "outputs": [
    {
     "data": {
      "text/plain": [
       "Event.Id                      0\n",
       "Investigation.Type            0\n",
       "Accident.Number               0\n",
       "Event.Date                    0\n",
       "Location                     52\n",
       "Country                     226\n",
       "Latitude                  54507\n",
       "Longitude                 54516\n",
       "Airport.Code              38757\n",
       "Airport.Name              36185\n",
       "Injury.Severity            1000\n",
       "Aircraft.damage            3194\n",
       "Aircraft.Category         56602\n",
       "Registration.Number        1382\n",
       "Make                         63\n",
       "Model                        92\n",
       "Amateur.Built               102\n",
       "Number.of.Engines          6084\n",
       "Engine.Type                7096\n",
       "FAR.Description           56866\n",
       "Schedule                  76307\n",
       "Purpose.of.flight          6192\n",
       "Air.carrier               72241\n",
       "Total.Fatal.Injuries      11401\n",
       "Total.Serious.Injuries    12510\n",
       "Total.Minor.Injuries      11933\n",
       "Total.Uninjured            5912\n",
       "Weather.Condition          4492\n",
       "Broad.phase.of.flight     27165\n",
       "Report.Status              6384\n",
       "Publication.Date          13771\n",
       "dtype: int64"
      ]
     },
     "execution_count": 177,
     "metadata": {},
     "output_type": "execute_result"
    }
   ],
   "source": [
    "# This will show us the sum of null values per column\n",
    "Aviation_data.isnull().sum()"
   ]
  },
  {
   "cell_type": "code",
   "execution_count": 178,
   "metadata": {},
   "outputs": [
    {
     "data": {
      "text/plain": [
       "(88889, 31)"
      ]
     },
     "execution_count": 178,
     "metadata": {},
     "output_type": "execute_result"
    }
   ],
   "source": [
    "Aviation_data.shape"
   ]
  },
  {
   "cell_type": "code",
   "execution_count": 179,
   "metadata": {},
   "outputs": [],
   "source": [
    "# Before removing columns with over 50% missing values, let's clean these columns first:\n",
    "Aviation_data['Aircraft.Category'] = Aviation_data['Aircraft.Category'].fillna('Unknown')\n",
    "Aviation_data.dropna(subset=['Total.Fatal.Injuries', 'Total.Serious.Injuries', 'Make', 'Model'], inplace=True)"
   ]
  },
  {
   "cell_type": "code",
   "execution_count": 180,
   "metadata": {},
   "outputs": [
    {
     "data": {
      "text/plain": [
       "Index(['Event.Id', 'Investigation.Type', 'Accident.Number', 'Event.Date',\n",
       "       'Location', 'Country', 'Airport.Code', 'Airport.Name',\n",
       "       'Injury.Severity', 'Aircraft.damage', 'Aircraft.Category',\n",
       "       'Registration.Number', 'Make', 'Model', 'Amateur.Built',\n",
       "       'Number.of.Engines', 'Engine.Type', 'Purpose.of.flight',\n",
       "       'Total.Fatal.Injuries', 'Total.Serious.Injuries',\n",
       "       'Total.Minor.Injuries', 'Total.Uninjured', 'Weather.Condition',\n",
       "       'Broad.phase.of.flight', 'Report.Status', 'Publication.Date'],\n",
       "      dtype='object')"
      ]
     },
     "execution_count": 180,
     "metadata": {},
     "output_type": "execute_result"
    }
   ],
   "source": [
    "# For cleaner data, we will remove the columns with more than 50% missing values\n",
    "Aviation_data.dropna(axis=1, thresh=len(Aviation_data) * 0.5, inplace=True)\n",
    "Aviation_data.columns"
   ]
  },
  {
   "cell_type": "code",
   "execution_count": 181,
   "metadata": {},
   "outputs": [
    {
     "data": {
      "text/plain": [
       "(74739, 26)"
      ]
     },
     "execution_count": 181,
     "metadata": {},
     "output_type": "execute_result"
    }
   ],
   "source": [
    "Aviation_data.shape"
   ]
  },
  {
   "cell_type": "code",
   "execution_count": 182,
   "metadata": {},
   "outputs": [
    {
     "data": {
      "text/plain": [
       "Index(['Event.Id', 'Event.Date', 'Airport.Code', 'Injury.Severity',\n",
       "       'Aircraft.damage', 'Aircraft.Category', 'Registration.Number', 'Make',\n",
       "       'Model', 'Engine.Type', 'Total.Fatal.Injuries',\n",
       "       'Total.Serious.Injuries', 'Total.Minor.Injuries', 'Total.Uninjured',\n",
       "       'Weather.Condition', 'Broad.phase.of.flight'],\n",
       "      dtype='object')"
      ]
     },
     "execution_count": 182,
     "metadata": {},
     "output_type": "execute_result"
    }
   ],
   "source": [
    "# To drop columns that might not be useful to us:\n",
    "Aviation_data.drop(columns=['Accident.Number', 'Publication.Date', 'Purpose.of.flight', 'Country', 'Investigation.Type', 'Amateur.Built','Airport.Name', 'Location', 'Number.of.Engines','Report.Status'], inplace=True)\n",
    "\n",
    "Aviation_data.columns"
   ]
  },
  {
   "cell_type": "code",
   "execution_count": 183,
   "metadata": {},
   "outputs": [
    {
     "data": {
      "text/plain": [
       "(74739, 16)"
      ]
     },
     "execution_count": 183,
     "metadata": {},
     "output_type": "execute_result"
    }
   ],
   "source": [
    "# to confirm whether the columns have been dropped:\n",
    "Aviation_data.shape"
   ]
  },
  {
   "cell_type": "code",
   "execution_count": 184,
   "metadata": {},
   "outputs": [],
   "source": [
    "Aviation_data['Make'] = Aviation_data['Make'].str.title()"
   ]
  },
  {
   "cell_type": "code",
   "execution_count": 185,
   "metadata": {},
   "outputs": [
    {
     "data": {
      "text/plain": [
       "array(['Fatal(2)', 'Fatal(4)', 'Fatal(1)', 'Non-Fatal', 'Fatal(3)',\n",
       "       'Incident', 'Fatal(8)', 'Fatal(78)', 'Fatal(7)', 'Fatal(6)',\n",
       "       'Fatal(5)', 'Fatal(153)', 'Fatal(12)', 'Fatal(23)', 'Fatal(10)',\n",
       "       'Fatal(11)', 'Fatal(9)', 'Fatal(17)', 'Fatal(13)', 'Fatal(29)',\n",
       "       'Fatal(70)', 'Unavailable', 'Fatal(135)', 'Fatal(31)', 'Fatal(14)',\n",
       "       'Fatal(256)', 'Fatal(25)', 'Fatal(82)', 'Fatal(156)', 'Fatal(28)',\n",
       "       'Fatal(18)', 'Fatal(43)', 'Fatal(15)', 'Fatal(270)', 'Fatal(144)',\n",
       "       'Fatal(174)', 'Fatal(111)', 'Fatal(131)', 'Fatal(20)', 'Fatal(73)',\n",
       "       'Fatal(27)', 'Fatal(34)', 'Fatal(87)', 'Fatal(30)', 'Fatal(16)',\n",
       "       'Fatal(47)', 'Fatal(56)', 'Fatal(37)', 'Fatal(132)', 'Fatal(68)',\n",
       "       'Fatal(54)', 'Fatal(52)', 'Fatal(65)', 'Fatal(72)', 'Fatal(160)',\n",
       "       'Fatal(189)', 'Fatal(123)', 'Fatal(33)', 'Fatal(110)',\n",
       "       'Fatal(230)', 'Fatal(97)', 'Fatal(125)', 'Fatal(228)', 'Fatal(75)',\n",
       "       'Fatal(104)', 'Fatal(229)', 'Fatal(80)', 'Fatal(88)', 'Fatal(19)',\n",
       "       'Fatal(60)', 'Fatal(113)', 'Fatal(143)', 'Fatal(83)', 'Fatal(138)',\n",
       "       'Fatal(102)', 'Fatal(115)', 'Fatal(141)', 'Fatal(46)', 'Fatal(45)',\n",
       "       'Fatal(107)', 'Fatal(124)', 'Fatal(49)', 'Fatal(96)', 'Fatal', nan,\n",
       "       'Minor', 'Serious'], dtype=object)"
      ]
     },
     "execution_count": 185,
     "metadata": {},
     "output_type": "execute_result"
    }
   ],
   "source": [
    "Aviation_data['Injury.Severity'].unique()\n"
   ]
  },
  {
   "cell_type": "code",
   "execution_count": 186,
   "metadata": {},
   "outputs": [
    {
     "name": "stdout",
     "output_type": "stream",
     "text": [
      "['Fatal' 'Non-Fatal' 'Incident' 'Unavailable' nan 'Minor' 'Serious']\n"
     ]
    }
   ],
   "source": [
    "\n",
    "# Sample data\n",
    "data = pd.Series(['Fatal(2)', 'Fatal(4)', 'Fatal(1)', 'Non-Fatal', 'Fatal(3)', 'Incident', 'Fatal(8)', 'Fatal(78)', 'Fatal(7)', 'Fatal(6)', 'Fatal(5)', 'Fatal(153)', 'Fatal(12)', 'Fatal(23)', 'Fatal(10)', 'Fatal(11)', 'Fatal(9)', 'Fatal(17)', 'Fatal(13)', 'Fatal(29)', 'Fatal(70)', 'Unavailable', 'Fatal(135)', 'Fatal(31)', 'Fatal(14)', 'Fatal(256)', 'Fatal(25)', 'Fatal(82)', 'Fatal(156)', 'Fatal(28)', 'Fatal(18)', 'Fatal(43)', 'Fatal(15)', 'Fatal(270)', 'Fatal(144)', 'Fatal(174)', 'Fatal(111)', 'Fatal(131)', 'Fatal(20)', 'Fatal(73)', 'Fatal(27)', 'Fatal(34)', 'Fatal(87)', 'Fatal(30)', 'Fatal(16)', 'Fatal(47)', 'Fatal(56)', 'Fatal(37)', 'Fatal(132)', 'Fatal(68)', 'Fatal(54)', 'Fatal(52)', 'Fatal(65)', 'Fatal(72)', 'Fatal(160)', 'Fatal(189)', 'Fatal(123)', 'Fatal(33)', 'Fatal(110)', 'Fatal(230)', 'Fatal(97)', 'Fatal(125)', 'Fatal(228)', 'Fatal(75)', 'Fatal(104)', 'Fatal(229)', 'Fatal(80)', 'Fatal(88)', 'Fatal(19)', 'Fatal(60)', 'Fatal(113)', 'Fatal(143)', 'Fatal(83)', 'Fatal(138)', 'Fatal(102)', 'Fatal(115)', 'Fatal(141)', 'Fatal(46)', 'Fatal(45)', 'Fatal(107)', 'Fatal(124)', 'Fatal(49)', 'Fatal(96)', 'Fatal', np.nan, 'Minor', 'Serious'])\n",
    "\n",
    "# Function to extract the base category\n",
    "def extract_category(value):\n",
    "    if pd.isna(value):\n",
    "        return np.nan\n",
    "    else:\n",
    "        return value.split('(')[0].strip()\n",
    "\n",
    "# Apply function to the column\n",
    "cleaned_data = data.apply(extract_category)\n",
    "\n",
    "# Create a DataFrame with the cleaned column\n",
    "df = pd.DataFrame({'Injury.Severity': cleaned_data})\n",
    "\n",
    "# View the unique values\n",
    "print(df['Injury.Severity'].unique())\n",
    "\n",
    "# Clean the 'Injury.Severity' column and apply it to our clean csv\n",
    "Aviation_data['Injury.Severity'] = Aviation_data['Injury.Severity'].apply(extract_category)\n"
   ]
  },
  {
   "cell_type": "markdown",
   "metadata": {},
   "source": [
    "## 1.4.b Checking for duplicate data"
   ]
  },
  {
   "cell_type": "code",
   "execution_count": 187,
   "metadata": {},
   "outputs": [
    {
     "data": {
      "text/plain": [
       "743"
      ]
     },
     "execution_count": 187,
     "metadata": {},
     "output_type": "execute_result"
    }
   ],
   "source": [
    "# To check for duplicates, which can affect my data analysis:\n",
    "Aviation_data.duplicated(subset=['Event.Id']).sum()"
   ]
  },
  {
   "cell_type": "code",
   "execution_count": 188,
   "metadata": {},
   "outputs": [
    {
     "data": {
      "text/plain": [
       "(73996, 16)"
      ]
     },
     "execution_count": 188,
     "metadata": {},
     "output_type": "execute_result"
    }
   ],
   "source": [
    "#Let us drop the duplicates, to get a cleaner dataset:\n",
    "Aviation_data.drop_duplicates(subset=['Event.Id'], inplace=True)\n",
    "Aviation_data.shape #this will show whether the 743 rows have been dropped"
   ]
  },
  {
   "cell_type": "code",
   "execution_count": 189,
   "metadata": {},
   "outputs": [],
   "source": [
    "# To ensure that the dates can be useful for time analysis, we convert then to datetime format\n",
    "Aviation_data['Event.Date'] = pd.to_datetime(Aviation_data['Event.Date'], errors='coerce')\n",
    "\n",
    "# To split 'Event.Date' and add a column for 'Year':\n",
    "Aviation_data['Year'] = pd.to_datetime(Aviation_data['Event.Date']).dt.strftime('%Y')\n"
   ]
  },
  {
   "cell_type": "markdown",
   "metadata": {},
   "source": [
    "## 1.4.c Handling Outliers\n",
    "To avoid outliers skewing our statistical analysis and deliver incorrect insights, we need to detect and handle them"
   ]
  },
  {
   "cell_type": "code",
   "execution_count": 190,
   "metadata": {},
   "outputs": [
    {
     "data": {
      "text/html": [
       "<div>\n",
       "<style scoped>\n",
       "    .dataframe tbody tr th:only-of-type {\n",
       "        vertical-align: middle;\n",
       "    }\n",
       "\n",
       "    .dataframe tbody tr th {\n",
       "        vertical-align: top;\n",
       "    }\n",
       "\n",
       "    .dataframe thead th {\n",
       "        text-align: right;\n",
       "    }\n",
       "</style>\n",
       "<table border=\"1\" class=\"dataframe\">\n",
       "  <thead>\n",
       "    <tr style=\"text-align: right;\">\n",
       "      <th></th>\n",
       "      <th>count</th>\n",
       "      <th>mean</th>\n",
       "      <th>min</th>\n",
       "      <th>25%</th>\n",
       "      <th>50%</th>\n",
       "      <th>75%</th>\n",
       "      <th>max</th>\n",
       "      <th>std</th>\n",
       "    </tr>\n",
       "  </thead>\n",
       "  <tbody>\n",
       "    <tr>\n",
       "      <th>Event.Date</th>\n",
       "      <td>73996</td>\n",
       "      <td>1998-12-20 11:51:26.242499584</td>\n",
       "      <td>1948-10-24 00:00:00</td>\n",
       "      <td>1987-10-10 18:00:00</td>\n",
       "      <td>1995-07-22 00:00:00</td>\n",
       "      <td>2011-07-10 06:00:00</td>\n",
       "      <td>2022-12-29 00:00:00</td>\n",
       "      <td>NaN</td>\n",
       "    </tr>\n",
       "    <tr>\n",
       "      <th>Total.Fatal.Injuries</th>\n",
       "      <td>73996.0</td>\n",
       "      <td>0.534975</td>\n",
       "      <td>0.0</td>\n",
       "      <td>0.0</td>\n",
       "      <td>0.0</td>\n",
       "      <td>0.0</td>\n",
       "      <td>295.0</td>\n",
       "      <td>4.603671</td>\n",
       "    </tr>\n",
       "    <tr>\n",
       "      <th>Total.Serious.Injuries</th>\n",
       "      <td>73996.0</td>\n",
       "      <td>0.258582</td>\n",
       "      <td>0.0</td>\n",
       "      <td>0.0</td>\n",
       "      <td>0.0</td>\n",
       "      <td>0.0</td>\n",
       "      <td>161.0</td>\n",
       "      <td>1.555107</td>\n",
       "    </tr>\n",
       "    <tr>\n",
       "      <th>Total.Minor.Injuries</th>\n",
       "      <td>73597.0</td>\n",
       "      <td>0.301439</td>\n",
       "      <td>0.0</td>\n",
       "      <td>0.0</td>\n",
       "      <td>0.0</td>\n",
       "      <td>0.0</td>\n",
       "      <td>171.0</td>\n",
       "      <td>1.565306</td>\n",
       "    </tr>\n",
       "    <tr>\n",
       "      <th>Total.Uninjured</th>\n",
       "      <td>73549.0</td>\n",
       "      <td>4.634081</td>\n",
       "      <td>0.0</td>\n",
       "      <td>0.0</td>\n",
       "      <td>1.0</td>\n",
       "      <td>2.0</td>\n",
       "      <td>576.0</td>\n",
       "      <td>25.252316</td>\n",
       "    </tr>\n",
       "  </tbody>\n",
       "</table>\n",
       "</div>"
      ],
      "text/plain": [
       "                          count                           mean  \\\n",
       "Event.Date                73996  1998-12-20 11:51:26.242499584   \n",
       "Total.Fatal.Injuries    73996.0                       0.534975   \n",
       "Total.Serious.Injuries  73996.0                       0.258582   \n",
       "Total.Minor.Injuries    73597.0                       0.301439   \n",
       "Total.Uninjured         73549.0                       4.634081   \n",
       "\n",
       "                                        min                  25%  \\\n",
       "Event.Date              1948-10-24 00:00:00  1987-10-10 18:00:00   \n",
       "Total.Fatal.Injuries                    0.0                  0.0   \n",
       "Total.Serious.Injuries                  0.0                  0.0   \n",
       "Total.Minor.Injuries                    0.0                  0.0   \n",
       "Total.Uninjured                         0.0                  0.0   \n",
       "\n",
       "                                        50%                  75%  \\\n",
       "Event.Date              1995-07-22 00:00:00  2011-07-10 06:00:00   \n",
       "Total.Fatal.Injuries                    0.0                  0.0   \n",
       "Total.Serious.Injuries                  0.0                  0.0   \n",
       "Total.Minor.Injuries                    0.0                  0.0   \n",
       "Total.Uninjured                         1.0                  2.0   \n",
       "\n",
       "                                        max        std  \n",
       "Event.Date              2022-12-29 00:00:00        NaN  \n",
       "Total.Fatal.Injuries                  295.0   4.603671  \n",
       "Total.Serious.Injuries                161.0   1.555107  \n",
       "Total.Minor.Injuries                  171.0   1.565306  \n",
       "Total.Uninjured                       576.0  25.252316  "
      ]
     },
     "execution_count": 190,
     "metadata": {},
     "output_type": "execute_result"
    }
   ],
   "source": [
    "# We will first handle the columns with numerical data:\n",
    "Aviation_data.describe().T"
   ]
  },
  {
   "cell_type": "code",
   "execution_count": 191,
   "metadata": {},
   "outputs": [
    {
     "data": {
      "text/html": [
       "<div>\n",
       "<style scoped>\n",
       "    .dataframe tbody tr th:only-of-type {\n",
       "        vertical-align: middle;\n",
       "    }\n",
       "\n",
       "    .dataframe tbody tr th {\n",
       "        vertical-align: top;\n",
       "    }\n",
       "\n",
       "    .dataframe thead th {\n",
       "        text-align: right;\n",
       "    }\n",
       "</style>\n",
       "<table border=\"1\" class=\"dataframe\">\n",
       "  <thead>\n",
       "    <tr style=\"text-align: right;\">\n",
       "      <th></th>\n",
       "      <th>Event.Id</th>\n",
       "      <th>Event.Date</th>\n",
       "      <th>Airport.Code</th>\n",
       "      <th>Injury.Severity</th>\n",
       "      <th>Aircraft.damage</th>\n",
       "      <th>Aircraft.Category</th>\n",
       "      <th>Registration.Number</th>\n",
       "      <th>Make</th>\n",
       "      <th>Model</th>\n",
       "      <th>Engine.Type</th>\n",
       "      <th>Total.Fatal.Injuries</th>\n",
       "      <th>Total.Serious.Injuries</th>\n",
       "      <th>Total.Minor.Injuries</th>\n",
       "      <th>Total.Uninjured</th>\n",
       "      <th>Weather.Condition</th>\n",
       "      <th>Broad.phase.of.flight</th>\n",
       "      <th>Year</th>\n",
       "    </tr>\n",
       "  </thead>\n",
       "  <tbody>\n",
       "    <tr>\n",
       "      <th>0</th>\n",
       "      <td>20001218X45444</td>\n",
       "      <td>1948-10-24</td>\n",
       "      <td>NaN</td>\n",
       "      <td>Fatal</td>\n",
       "      <td>Destroyed</td>\n",
       "      <td>Unknown</td>\n",
       "      <td>NC6404</td>\n",
       "      <td>Stinson</td>\n",
       "      <td>108-3</td>\n",
       "      <td>Reciprocating</td>\n",
       "      <td>2.0</td>\n",
       "      <td>0.0</td>\n",
       "      <td>0.0</td>\n",
       "      <td>0.0</td>\n",
       "      <td>UNK</td>\n",
       "      <td>Cruise</td>\n",
       "      <td>1948</td>\n",
       "    </tr>\n",
       "    <tr>\n",
       "      <th>1</th>\n",
       "      <td>20001218X45447</td>\n",
       "      <td>1962-07-19</td>\n",
       "      <td>NaN</td>\n",
       "      <td>Fatal</td>\n",
       "      <td>Destroyed</td>\n",
       "      <td>Unknown</td>\n",
       "      <td>N5069P</td>\n",
       "      <td>Piper</td>\n",
       "      <td>PA24-180</td>\n",
       "      <td>Reciprocating</td>\n",
       "      <td>4.0</td>\n",
       "      <td>0.0</td>\n",
       "      <td>0.0</td>\n",
       "      <td>0.0</td>\n",
       "      <td>UNK</td>\n",
       "      <td>Unknown</td>\n",
       "      <td>1962</td>\n",
       "    </tr>\n",
       "    <tr>\n",
       "      <th>3</th>\n",
       "      <td>20001218X45448</td>\n",
       "      <td>1977-06-19</td>\n",
       "      <td>NaN</td>\n",
       "      <td>Fatal</td>\n",
       "      <td>Destroyed</td>\n",
       "      <td>Unknown</td>\n",
       "      <td>N1168J</td>\n",
       "      <td>Rockwell</td>\n",
       "      <td>112</td>\n",
       "      <td>Reciprocating</td>\n",
       "      <td>2.0</td>\n",
       "      <td>0.0</td>\n",
       "      <td>0.0</td>\n",
       "      <td>0.0</td>\n",
       "      <td>IMC</td>\n",
       "      <td>Cruise</td>\n",
       "      <td>1977</td>\n",
       "    </tr>\n",
       "    <tr>\n",
       "      <th>4</th>\n",
       "      <td>20041105X01764</td>\n",
       "      <td>1979-08-02</td>\n",
       "      <td>NaN</td>\n",
       "      <td>Fatal</td>\n",
       "      <td>Destroyed</td>\n",
       "      <td>Unknown</td>\n",
       "      <td>N15NY</td>\n",
       "      <td>Cessna</td>\n",
       "      <td>501</td>\n",
       "      <td>NaN</td>\n",
       "      <td>1.0</td>\n",
       "      <td>2.0</td>\n",
       "      <td>NaN</td>\n",
       "      <td>0.0</td>\n",
       "      <td>VMC</td>\n",
       "      <td>Approach</td>\n",
       "      <td>1979</td>\n",
       "    </tr>\n",
       "    <tr>\n",
       "      <th>6</th>\n",
       "      <td>20001218X45446</td>\n",
       "      <td>1981-08-01</td>\n",
       "      <td>NaN</td>\n",
       "      <td>Fatal</td>\n",
       "      <td>Destroyed</td>\n",
       "      <td>Unknown</td>\n",
       "      <td>N4988E</td>\n",
       "      <td>Cessna</td>\n",
       "      <td>180</td>\n",
       "      <td>Reciprocating</td>\n",
       "      <td>4.0</td>\n",
       "      <td>0.0</td>\n",
       "      <td>0.0</td>\n",
       "      <td>0.0</td>\n",
       "      <td>IMC</td>\n",
       "      <td>Unknown</td>\n",
       "      <td>1981</td>\n",
       "    </tr>\n",
       "    <tr>\n",
       "      <th>...</th>\n",
       "      <td>...</td>\n",
       "      <td>...</td>\n",
       "      <td>...</td>\n",
       "      <td>...</td>\n",
       "      <td>...</td>\n",
       "      <td>...</td>\n",
       "      <td>...</td>\n",
       "      <td>...</td>\n",
       "      <td>...</td>\n",
       "      <td>...</td>\n",
       "      <td>...</td>\n",
       "      <td>...</td>\n",
       "      <td>...</td>\n",
       "      <td>...</td>\n",
       "      <td>...</td>\n",
       "      <td>...</td>\n",
       "      <td>...</td>\n",
       "    </tr>\n",
       "    <tr>\n",
       "      <th>88843</th>\n",
       "      <td>20221205106408</td>\n",
       "      <td>2022-12-04</td>\n",
       "      <td>CPT</td>\n",
       "      <td>Fatal</td>\n",
       "      <td>Destroyed</td>\n",
       "      <td>Airplane</td>\n",
       "      <td>N8149Z</td>\n",
       "      <td>Cessna</td>\n",
       "      <td>210-5(205)</td>\n",
       "      <td>NaN</td>\n",
       "      <td>2.0</td>\n",
       "      <td>0.0</td>\n",
       "      <td>0.0</td>\n",
       "      <td>0.0</td>\n",
       "      <td>IMC</td>\n",
       "      <td>NaN</td>\n",
       "      <td>2022</td>\n",
       "    </tr>\n",
       "    <tr>\n",
       "      <th>88845</th>\n",
       "      <td>20221205106417</td>\n",
       "      <td>2022-12-05</td>\n",
       "      <td>CRZ</td>\n",
       "      <td>Fatal</td>\n",
       "      <td>Destroyed</td>\n",
       "      <td>Airplane</td>\n",
       "      <td>N99345</td>\n",
       "      <td>Engineering &amp; Research</td>\n",
       "      <td>ERCOUPE 415-C</td>\n",
       "      <td>NaN</td>\n",
       "      <td>1.0</td>\n",
       "      <td>0.0</td>\n",
       "      <td>0.0</td>\n",
       "      <td>0.0</td>\n",
       "      <td>VMC</td>\n",
       "      <td>NaN</td>\n",
       "      <td>2022</td>\n",
       "    </tr>\n",
       "    <tr>\n",
       "      <th>88846</th>\n",
       "      <td>20221206106419</td>\n",
       "      <td>2022-12-05</td>\n",
       "      <td>RCE</td>\n",
       "      <td>Fatal</td>\n",
       "      <td>Destroyed</td>\n",
       "      <td>Airplane</td>\n",
       "      <td>N9142Q</td>\n",
       "      <td>Beech</td>\n",
       "      <td>F33A</td>\n",
       "      <td>NaN</td>\n",
       "      <td>3.0</td>\n",
       "      <td>0.0</td>\n",
       "      <td>0.0</td>\n",
       "      <td>0.0</td>\n",
       "      <td>VMC</td>\n",
       "      <td>NaN</td>\n",
       "      <td>2022</td>\n",
       "    </tr>\n",
       "    <tr>\n",
       "      <th>88868</th>\n",
       "      <td>20221213106451</td>\n",
       "      <td>2022-12-13</td>\n",
       "      <td>NaN</td>\n",
       "      <td>Fatal</td>\n",
       "      <td>NaN</td>\n",
       "      <td>Unknown</td>\n",
       "      <td>N74586</td>\n",
       "      <td>Mooney</td>\n",
       "      <td>M20B</td>\n",
       "      <td>NaN</td>\n",
       "      <td>1.0</td>\n",
       "      <td>0.0</td>\n",
       "      <td>0.0</td>\n",
       "      <td>0.0</td>\n",
       "      <td>NaN</td>\n",
       "      <td>NaN</td>\n",
       "      <td>2022</td>\n",
       "    </tr>\n",
       "    <tr>\n",
       "      <th>88883</th>\n",
       "      <td>20221228106502</td>\n",
       "      <td>2022-12-22</td>\n",
       "      <td>NaN</td>\n",
       "      <td>Fatal</td>\n",
       "      <td>NaN</td>\n",
       "      <td>Unknown</td>\n",
       "      <td>PP-IRC</td>\n",
       "      <td>Air Tractor</td>\n",
       "      <td>AT502</td>\n",
       "      <td>NaN</td>\n",
       "      <td>1.0</td>\n",
       "      <td>0.0</td>\n",
       "      <td>0.0</td>\n",
       "      <td>0.0</td>\n",
       "      <td>NaN</td>\n",
       "      <td>NaN</td>\n",
       "      <td>2022</td>\n",
       "    </tr>\n",
       "  </tbody>\n",
       "</table>\n",
       "<p>14902 rows × 17 columns</p>\n",
       "</div>"
      ],
      "text/plain": [
       "             Event.Id Event.Date Airport.Code Injury.Severity Aircraft.damage  \\\n",
       "0      20001218X45444 1948-10-24          NaN           Fatal       Destroyed   \n",
       "1      20001218X45447 1962-07-19          NaN           Fatal       Destroyed   \n",
       "3      20001218X45448 1977-06-19          NaN           Fatal       Destroyed   \n",
       "4      20041105X01764 1979-08-02          NaN           Fatal       Destroyed   \n",
       "6      20001218X45446 1981-08-01          NaN           Fatal       Destroyed   \n",
       "...               ...        ...          ...             ...             ...   \n",
       "88843  20221205106408 2022-12-04          CPT           Fatal       Destroyed   \n",
       "88845  20221205106417 2022-12-05          CRZ           Fatal       Destroyed   \n",
       "88846  20221206106419 2022-12-05          RCE           Fatal       Destroyed   \n",
       "88868  20221213106451 2022-12-13          NaN           Fatal             NaN   \n",
       "88883  20221228106502 2022-12-22          NaN           Fatal             NaN   \n",
       "\n",
       "      Aircraft.Category Registration.Number                    Make  \\\n",
       "0               Unknown              NC6404                 Stinson   \n",
       "1               Unknown              N5069P                   Piper   \n",
       "3               Unknown              N1168J                Rockwell   \n",
       "4               Unknown               N15NY                  Cessna   \n",
       "6               Unknown              N4988E                  Cessna   \n",
       "...                 ...                 ...                     ...   \n",
       "88843          Airplane              N8149Z                  Cessna   \n",
       "88845          Airplane              N99345  Engineering & Research   \n",
       "88846          Airplane              N9142Q                   Beech   \n",
       "88868           Unknown              N74586                  Mooney   \n",
       "88883           Unknown              PP-IRC             Air Tractor   \n",
       "\n",
       "               Model    Engine.Type  Total.Fatal.Injuries  \\\n",
       "0              108-3  Reciprocating                   2.0   \n",
       "1           PA24-180  Reciprocating                   4.0   \n",
       "3                112  Reciprocating                   2.0   \n",
       "4                501            NaN                   1.0   \n",
       "6                180  Reciprocating                   4.0   \n",
       "...              ...            ...                   ...   \n",
       "88843     210-5(205)            NaN                   2.0   \n",
       "88845  ERCOUPE 415-C            NaN                   1.0   \n",
       "88846           F33A            NaN                   3.0   \n",
       "88868           M20B            NaN                   1.0   \n",
       "88883          AT502            NaN                   1.0   \n",
       "\n",
       "       Total.Serious.Injuries  Total.Minor.Injuries  Total.Uninjured  \\\n",
       "0                         0.0                   0.0              0.0   \n",
       "1                         0.0                   0.0              0.0   \n",
       "3                         0.0                   0.0              0.0   \n",
       "4                         2.0                   NaN              0.0   \n",
       "6                         0.0                   0.0              0.0   \n",
       "...                       ...                   ...              ...   \n",
       "88843                     0.0                   0.0              0.0   \n",
       "88845                     0.0                   0.0              0.0   \n",
       "88846                     0.0                   0.0              0.0   \n",
       "88868                     0.0                   0.0              0.0   \n",
       "88883                     0.0                   0.0              0.0   \n",
       "\n",
       "      Weather.Condition Broad.phase.of.flight  Year  \n",
       "0                   UNK                Cruise  1948  \n",
       "1                   UNK               Unknown  1962  \n",
       "3                   IMC                Cruise  1977  \n",
       "4                   VMC              Approach  1979  \n",
       "6                   IMC               Unknown  1981  \n",
       "...                 ...                   ...   ...  \n",
       "88843               IMC                   NaN  2022  \n",
       "88845               VMC                   NaN  2022  \n",
       "88846               VMC                   NaN  2022  \n",
       "88868               NaN                   NaN  2022  \n",
       "88883               NaN                   NaN  2022  \n",
       "\n",
       "[14902 rows x 17 columns]"
      ]
     },
     "execution_count": 191,
     "metadata": {},
     "output_type": "execute_result"
    }
   ],
   "source": [
    "# To detect outliers:\n",
    "Q1 = Aviation_data['Total.Fatal.Injuries'].quantile(0.25)\n",
    "Q3 = Aviation_data['Total.Fatal.Injuries'].quantile(0.75)\n",
    "IQR = Q3 - Q1\n",
    "outliers = Aviation_data[(Aviation_data['Total.Fatal.Injuries']<(Q1 - 1.5 * IQR)) | (Aviation_data['Total.Fatal.Injuries']>(Q3 + 1.5 * IQR))]\n",
    "outliers"
   ]
  },
  {
   "cell_type": "code",
   "execution_count": 192,
   "metadata": {},
   "outputs": [
    {
     "data": {
      "text/plain": [
       "<Axes: ylabel='Total.Fatal.Injuries'>"
      ]
     },
     "execution_count": 192,
     "metadata": {},
     "output_type": "execute_result"
    },
    {
     "data": {
      "image/png": "[encoded data removed]",
      "text/plain": [
       "<Figure size 640x480 with 1 Axes>"
      ]
     },
     "metadata": {},
     "output_type": "display_data"
    }
   ],
   "source": [
    "sns.boxplot(data=Aviation_data, y='Total.Fatal.Injuries')"
   ]
  },
  {
   "cell_type": "code",
   "execution_count": 193,
   "metadata": {},
   "outputs": [
    {
     "data": {
      "text/html": [
       "<div>\n",
       "<style scoped>\n",
       "    .dataframe tbody tr th:only-of-type {\n",
       "        vertical-align: middle;\n",
       "    }\n",
       "\n",
       "    .dataframe tbody tr th {\n",
       "        vertical-align: top;\n",
       "    }\n",
       "\n",
       "    .dataframe thead th {\n",
       "        text-align: right;\n",
       "    }\n",
       "</style>\n",
       "<table border=\"1\" class=\"dataframe\">\n",
       "  <thead>\n",
       "    <tr style=\"text-align: right;\">\n",
       "      <th></th>\n",
       "      <th>Event.Id</th>\n",
       "      <th>Event.Date</th>\n",
       "      <th>Airport.Code</th>\n",
       "      <th>Injury.Severity</th>\n",
       "      <th>Aircraft.damage</th>\n",
       "      <th>Aircraft.Category</th>\n",
       "      <th>Registration.Number</th>\n",
       "      <th>Make</th>\n",
       "      <th>Model</th>\n",
       "      <th>Engine.Type</th>\n",
       "      <th>Total.Fatal.Injuries</th>\n",
       "      <th>Total.Serious.Injuries</th>\n",
       "      <th>Total.Minor.Injuries</th>\n",
       "      <th>Total.Uninjured</th>\n",
       "      <th>Weather.Condition</th>\n",
       "      <th>Broad.phase.of.flight</th>\n",
       "      <th>Year</th>\n",
       "    </tr>\n",
       "  </thead>\n",
       "  <tbody>\n",
       "    <tr>\n",
       "      <th>0</th>\n",
       "      <td>20001218X45444</td>\n",
       "      <td>1948-10-24</td>\n",
       "      <td>NaN</td>\n",
       "      <td>Fatal</td>\n",
       "      <td>Destroyed</td>\n",
       "      <td>Unknown</td>\n",
       "      <td>NC6404</td>\n",
       "      <td>Stinson</td>\n",
       "      <td>108-3</td>\n",
       "      <td>Reciprocating</td>\n",
       "      <td>2.0</td>\n",
       "      <td>0.0</td>\n",
       "      <td>0.0</td>\n",
       "      <td>0.0</td>\n",
       "      <td>UNK</td>\n",
       "      <td>Cruise</td>\n",
       "      <td>1948</td>\n",
       "    </tr>\n",
       "    <tr>\n",
       "      <th>1</th>\n",
       "      <td>20001218X45447</td>\n",
       "      <td>1962-07-19</td>\n",
       "      <td>NaN</td>\n",
       "      <td>Fatal</td>\n",
       "      <td>Destroyed</td>\n",
       "      <td>Unknown</td>\n",
       "      <td>N5069P</td>\n",
       "      <td>Piper</td>\n",
       "      <td>PA24-180</td>\n",
       "      <td>Reciprocating</td>\n",
       "      <td>4.0</td>\n",
       "      <td>0.0</td>\n",
       "      <td>0.0</td>\n",
       "      <td>0.0</td>\n",
       "      <td>UNK</td>\n",
       "      <td>Unknown</td>\n",
       "      <td>1962</td>\n",
       "    </tr>\n",
       "    <tr>\n",
       "      <th>3</th>\n",
       "      <td>20001218X45448</td>\n",
       "      <td>1977-06-19</td>\n",
       "      <td>NaN</td>\n",
       "      <td>Fatal</td>\n",
       "      <td>Destroyed</td>\n",
       "      <td>Unknown</td>\n",
       "      <td>N1168J</td>\n",
       "      <td>Rockwell</td>\n",
       "      <td>112</td>\n",
       "      <td>Reciprocating</td>\n",
       "      <td>2.0</td>\n",
       "      <td>0.0</td>\n",
       "      <td>0.0</td>\n",
       "      <td>0.0</td>\n",
       "      <td>IMC</td>\n",
       "      <td>Cruise</td>\n",
       "      <td>1977</td>\n",
       "    </tr>\n",
       "    <tr>\n",
       "      <th>4</th>\n",
       "      <td>20041105X01764</td>\n",
       "      <td>1979-08-02</td>\n",
       "      <td>NaN</td>\n",
       "      <td>Fatal</td>\n",
       "      <td>Destroyed</td>\n",
       "      <td>Unknown</td>\n",
       "      <td>N15NY</td>\n",
       "      <td>Cessna</td>\n",
       "      <td>501</td>\n",
       "      <td>NaN</td>\n",
       "      <td>1.0</td>\n",
       "      <td>2.0</td>\n",
       "      <td>NaN</td>\n",
       "      <td>0.0</td>\n",
       "      <td>VMC</td>\n",
       "      <td>Approach</td>\n",
       "      <td>1979</td>\n",
       "    </tr>\n",
       "    <tr>\n",
       "      <th>6</th>\n",
       "      <td>20001218X45446</td>\n",
       "      <td>1981-08-01</td>\n",
       "      <td>NaN</td>\n",
       "      <td>Fatal</td>\n",
       "      <td>Destroyed</td>\n",
       "      <td>Unknown</td>\n",
       "      <td>N4988E</td>\n",
       "      <td>Cessna</td>\n",
       "      <td>180</td>\n",
       "      <td>Reciprocating</td>\n",
       "      <td>4.0</td>\n",
       "      <td>0.0</td>\n",
       "      <td>0.0</td>\n",
       "      <td>0.0</td>\n",
       "      <td>IMC</td>\n",
       "      <td>Unknown</td>\n",
       "      <td>1981</td>\n",
       "    </tr>\n",
       "  </tbody>\n",
       "</table>\n",
       "</div>"
      ],
      "text/plain": [
       "         Event.Id Event.Date Airport.Code Injury.Severity Aircraft.damage  \\\n",
       "0  20001218X45444 1948-10-24          NaN           Fatal       Destroyed   \n",
       "1  20001218X45447 1962-07-19          NaN           Fatal       Destroyed   \n",
       "3  20001218X45448 1977-06-19          NaN           Fatal       Destroyed   \n",
       "4  20041105X01764 1979-08-02          NaN           Fatal       Destroyed   \n",
       "6  20001218X45446 1981-08-01          NaN           Fatal       Destroyed   \n",
       "\n",
       "  Aircraft.Category Registration.Number      Make     Model    Engine.Type  \\\n",
       "0           Unknown              NC6404   Stinson     108-3  Reciprocating   \n",
       "1           Unknown              N5069P     Piper  PA24-180  Reciprocating   \n",
       "3           Unknown              N1168J  Rockwell       112  Reciprocating   \n",
       "4           Unknown               N15NY    Cessna       501            NaN   \n",
       "6           Unknown              N4988E    Cessna       180  Reciprocating   \n",
       "\n",
       "   Total.Fatal.Injuries  Total.Serious.Injuries  Total.Minor.Injuries  \\\n",
       "0                   2.0                     0.0                   0.0   \n",
       "1                   4.0                     0.0                   0.0   \n",
       "3                   2.0                     0.0                   0.0   \n",
       "4                   1.0                     2.0                   NaN   \n",
       "6                   4.0                     0.0                   0.0   \n",
       "\n",
       "   Total.Uninjured Weather.Condition Broad.phase.of.flight  Year  \n",
       "0              0.0               UNK                Cruise  1948  \n",
       "1              0.0               UNK               Unknown  1962  \n",
       "3              0.0               IMC                Cruise  1977  \n",
       "4              0.0               VMC              Approach  1979  \n",
       "6              0.0               IMC               Unknown  1981  "
      ]
     },
     "execution_count": 193,
     "metadata": {},
     "output_type": "execute_result"
    }
   ],
   "source": [
    "Aviation_data.head()"
   ]
  },
  {
   "cell_type": "markdown",
   "metadata": {},
   "source": [
    "# 1.5 Exploratory Data Analysis"
   ]
  },
  {
   "cell_type": "markdown",
   "metadata": {},
   "source": [
    "### 1.5.a Checking for missing values"
   ]
  },
  {
   "cell_type": "code",
   "execution_count": 194,
   "metadata": {},
   "outputs": [],
   "source": [
    "# For certain columns, filling missing values with 0 might make sense, especially if it means that the missing values meant the absence of an occurence\n",
    "Aviation_data['Total.Uninjured'] = Aviation_data['Total.Uninjured'].fillna(0)\n",
    "Aviation_data['Total.Fatal.Injuries'] = Aviation_data['Total.Fatal.Injuries'].fillna(0)\n",
    "Aviation_data['Total.Minor.Injuries'] = Aviation_data['Total.Minor.Injuries'].fillna(0)\n",
    "Aviation_data['Total.Serious.Injuries'] = Aviation_data['Total.Serious.Injuries'].fillna(0)"
   ]
  },
  {
   "cell_type": "code",
   "execution_count": 195,
   "metadata": {},
   "outputs": [
    {
     "name": "stdout",
     "output_type": "stream",
     "text": [
      "56779\n"
     ]
    }
   ],
   "source": [
    "# Deciding on whether to drop 'Engine.Type', check for engine types being a duplicate in the make and model of the planes.- To see whether it's redundant\n",
    "unique_combo = Aviation_data[['Make', 'Model', 'Engine.Type']].duplicated().sum()\n",
    "print(unique_combo)"
   ]
  },
  {
   "cell_type": "code",
   "execution_count": 196,
   "metadata": {},
   "outputs": [
    {
     "name": "stderr",
     "output_type": "stream",
     "text": [
      "C:\\Users\\USER\\AppData\\Local\\Temp\\ipykernel_26380\\2991694992.py:2: FutureWarning: A value is trying to be set on a copy of a DataFrame or Series through chained assignment using an inplace method.\n",
      "The behavior will change in pandas 3.0. This inplace method will never work because the intermediate object on which we are setting values always behaves as a copy.\n",
      "\n",
      "For example, when doing 'df[col].method(value, inplace=True)', try using 'df.method({col: value}, inplace=True)' or df[col] = df[col].method(value) instead, to perform the operation inplace on the original object.\n",
      "\n",
      "\n",
      "  Aviation_data['Engine.Type'].fillna('unknown', inplace=True)\n"
     ]
    }
   ],
   "source": [
    "# Fill Missing engine.type values with \"unknown\" for us to use it later\n",
    "Aviation_data['Engine.Type'].fillna('unknown', inplace=True)\n"
   ]
  },
  {
   "cell_type": "markdown",
   "metadata": {},
   "source": [
    "### 1.5.b Descriptive statistics"
   ]
  },
  {
   "cell_type": "code",
   "execution_count": 197,
   "metadata": {},
   "outputs": [
    {
     "name": "stdout",
     "output_type": "stream",
     "text": [
      "                          Event.Date  Total.Fatal.Injuries  \\\n",
      "count                          73996          73996.000000   \n",
      "mean   1998-12-20 11:51:26.242499584              0.534975   \n",
      "min              1948-10-24 00:00:00              0.000000   \n",
      "25%              1987-10-10 18:00:00              0.000000   \n",
      "50%              1995-07-22 00:00:00              0.000000   \n",
      "75%              2011-07-10 06:00:00              0.000000   \n",
      "max              2022-12-29 00:00:00            295.000000   \n",
      "std                              NaN              4.603671   \n",
      "\n",
      "       Total.Serious.Injuries  Total.Minor.Injuries  Total.Uninjured  \n",
      "count            73996.000000          73996.000000     73996.000000  \n",
      "mean                 0.258582              0.299814         4.606087  \n",
      "min                  0.000000              0.000000         0.000000  \n",
      "25%                  0.000000              0.000000         0.000000  \n",
      "50%                  0.000000              0.000000         1.000000  \n",
      "75%                  0.000000              0.000000         2.000000  \n",
      "max                161.000000            171.000000       576.000000  \n",
      "std                  1.555107              1.561236        25.178488  \n",
      "Injury.Severity\n",
      "Non-Fatal      56213\n",
      "Fatal          14920\n",
      "Incident        1493\n",
      "Minor            217\n",
      "Serious          173\n",
      "Unavailable       11\n",
      "Name: count, dtype: int64\n",
      "Injury.Severity\n",
      "Non-Fatal      56213\n",
      "Fatal          14920\n",
      "Incident        1493\n",
      "Minor            217\n",
      "Serious          173\n",
      "Unavailable       11\n",
      "Name: count, dtype: int64\n",
      "Injury.Severity\n",
      "Non-Fatal      56213\n",
      "Fatal          14920\n",
      "Incident        1493\n",
      "Minor            217\n",
      "Serious          173\n",
      "Unavailable       11\n",
      "Name: count, dtype: int64\n",
      "Injury.Severity\n",
      "Non-Fatal      56213\n",
      "Fatal          14920\n",
      "Incident        1493\n",
      "Minor            217\n",
      "Serious          173\n",
      "Unavailable       11\n",
      "Name: count, dtype: int64\n",
      "Injury.Severity\n",
      "Non-Fatal      56213\n",
      "Fatal          14920\n",
      "Incident        1493\n",
      "Minor            217\n",
      "Serious          173\n",
      "Unavailable       11\n",
      "Name: count, dtype: int64\n",
      "Injury.Severity\n",
      "Non-Fatal      56213\n",
      "Fatal          14920\n",
      "Incident        1493\n",
      "Minor            217\n",
      "Serious          173\n",
      "Unavailable       11\n",
      "Name: count, dtype: int64\n",
      "Injury.Severity\n",
      "Non-Fatal      56213\n",
      "Fatal          14920\n",
      "Incident        1493\n",
      "Minor            217\n",
      "Serious          173\n",
      "Unavailable       11\n",
      "Name: count, dtype: int64\n"
     ]
    }
   ],
   "source": [
    "# To check the summary statistics for columns with numerical data:\n",
    "print(Aviation_data.describe())\n",
    "\n",
    "# To check frequency counts for categorical columns:\n",
    "object_columns = ['Injury.Severity', 'Aircraft.damage', 'Make', 'Model', 'Engine.Type', 'Weather.Condition', 'Broad.phase.of.flight']\n",
    "for column in object_columns:\n",
    "    print(Aviation_data['Injury.Severity'].value_counts())"
   ]
  },
  {
   "cell_type": "markdown",
   "metadata": {},
   "source": [
    "### 1.6.c Groupby\n",
    "This will help us summarize information"
   ]
  },
  {
   "cell_type": "markdown",
   "metadata": {},
   "source": [
    "#### 1.6.c.1 Visializing groupby 'Aircraft.damage'\n",
    "Assess the level of injuries based on how bad the airecraft was damaged"
   ]
  },
  {
   "cell_type": "code",
   "execution_count": 198,
   "metadata": {},
   "outputs": [
    {
     "name": "stdout",
     "output_type": "stream",
     "text": [
      "                 Total.Fatal.Injuries  Total.Serious.Injuries  \\\n",
      "Aircraft.damage                                                 \n",
      "Destroyed                     32332.0                  6487.0   \n",
      "Minor                           106.0                   469.0   \n",
      "Substantial                    6639.0                 10962.0   \n",
      "Unknown                          56.0                    16.0   \n",
      "\n",
      "                 Total.Minor.Injuries  Total.Uninjured  \n",
      "Aircraft.damage                                         \n",
      "Destroyed                      5145.0           6499.0  \n",
      "Minor                          1228.0          87376.0  \n",
      "Substantial                   14338.0         115240.0  \n",
      "Unknown                          25.0            478.0  \n"
     ]
    }
   ],
   "source": [
    "#Group by 'Aircraft.Damage'\n",
    "damage_sum = Aviation_data.groupby('Aircraft.damage')[['Total.Fatal.Injuries', 'Total.Serious.Injuries', 'Total.Minor.Injuries', 'Total.Uninjured']].sum()\n",
    "print(damage_sum)"
   ]
  },
  {
   "cell_type": "code",
   "execution_count": 199,
   "metadata": {},
   "outputs": [
    {
     "data": {
      "image/png": "[encoded data removed]",
      "text/plain": [
       "<Figure size 1000x600 with 1 Axes>"
      ]
     },
     "metadata": {},
     "output_type": "display_data"
    }
   ],
   "source": [
    "#Plotting a graph to show the relationship between injuries and aircraft damage:\n",
    "damage_sum.plot(kind='bar', figsize=(10,6))\n",
    "plt.title('Injuries by Aircraft Damage')\n",
    "plt.xlabel('Aircraft Damage')\n",
    "plt.ylabel('Number of Injuries')\n",
    "plt.xticks(rotation=45)\n",
    "plt.legend(title='Injury Severity')\n",
    "plt.show()"
   ]
  },
  {
   "cell_type": "markdown",
   "metadata": {},
   "source": [
    "#### 1.6.c.2 Visualizing groupby 'Make' and 'Model'\n",
    "Assess the level of injuries based on the model and make"
   ]
  },
  {
   "cell_type": "code",
   "execution_count": 200,
   "metadata": {},
   "outputs": [
    {
     "name": "stdout",
     "output_type": "stream",
     "text": [
      "                     Make Aircraft.Category  Incidents\n",
      "0               177Mf Llc          Airplane          1\n",
      "1              1St Ftr Gp           Unknown          1\n",
      "2     2007 Savage Air Llc          Airplane          1\n",
      "3             2021Fx3 Llc          Airplane          2\n",
      "4                  3Xtrim          Airplane          1\n",
      "...                   ...               ...        ...\n",
      "6952        Zubair S Khan          Airplane          1\n",
      "6953       Zuber Thomas P          Airplane          1\n",
      "6954             Zukowski           Unknown          1\n",
      "6955                Zwart           Unknown          1\n",
      "6956     Zwicker Murray R          Airplane          1\n",
      "\n",
      "[6957 rows x 3 columns]\n"
     ]
    }
   ],
   "source": [
    "# Group by make and model, count the number of events per aircraft model, and rename the count, with 'Incidents'\n",
    "aircraft_events = Aviation_data.groupby(['Make','Aircraft.Category']).size().reset_index(name='Incidents')\n",
    "print(aircraft_events)\n"
   ]
  },
  {
   "cell_type": "code",
   "execution_count": 201,
   "metadata": {},
   "outputs": [
    {
     "name": "stdout",
     "output_type": "stream",
     "text": [
      "                Model                 Make Aircraft.Category  Total_Injured  \\\n",
      "0               &GCBC             Champion           Unknown            0.0   \n",
      "1           (EX) RV-6                 Vans          Airplane            2.0   \n",
      "2          (MODIFIED)  Eipper Quicksiver E           Unknown            1.0   \n",
      "3  (SOLOY CONVERSION)          Bell 47G-3B        Helicopter            0.0   \n",
      "4            -737-222               Boeing           Unknown          123.0   \n",
      "\n",
      "   Total.Uninjured  \n",
      "0              2.0  \n",
      "1              0.0  \n",
      "2              0.0  \n",
      "3              1.0  \n",
      "4              0.0  \n",
      " \n",
      "       Total_Injured  Total.Uninjured\n",
      "count   17167.000000     17167.000000\n",
      "mean        4.712821        19.853906\n",
      "std        26.357443       210.799404\n",
      "min         0.000000         0.000000\n",
      "25%         0.000000         0.000000\n",
      "50%         1.000000         1.000000\n",
      "75%         2.000000         3.000000\n",
      "max      1763.000000     20390.000000\n"
     ]
    }
   ],
   "source": [
    "Aviation_data['Total_Injured'] = Aviation_data[['Total.Fatal.Injuries', 'Total.Serious.Injuries', 'Total.Minor.Injuries']].sum(axis=1)\n",
    "make_model_injury = Aviation_data.groupby(['Model', 'Make', 'Aircraft.Category']).agg({\n",
    "    'Total_Injured': 'sum',\n",
    "    'Total.Uninjured': 'sum'\n",
    "}).reset_index()\n",
    "\n",
    "print(make_model_injury.head())\n",
    "print(\" \")\n",
    "print(make_model_injury.describe())"
   ]
  },
  {
   "cell_type": "code",
   "execution_count": 202,
   "metadata": {},
   "outputs": [
    {
     "name": "stdout",
     "output_type": "stream",
     "text": [
      "Top 5 Models and Makes with the highest total injured:\n",
      "Model: 737, Make: Boeing, Total Injured: 1763.0\n",
      "Model: 152, Make: Cessna, Total Injured: 724.0\n",
      "Model: 737-200, Make: Boeing, Total Injured: 696.0\n",
      "Model: PA-28-140, Make: Piper, Total Injured: 660.0\n",
      "Model: 172N, Make: Cessna, Total Injured: 612.0\n"
     ]
    }
   ],
   "source": [
    "# Find the top 5 models and makes with the highest number of Total Injured\n",
    "top_5_injured = make_model_injury.nlargest(5, 'Total_Injured')\n",
    "\n",
    "# Print the top 5\n",
    "print(\"Top 5 Models and Makes with the highest total injured:\")\n",
    "for index, row in top_5_injured.iterrows():\n",
    "    print(f\"Model: {row['Model']}, Make: {row['Make']}, Total Injured: {row['Total_Injured']}\")"
   ]
  },
  {
   "cell_type": "code",
   "execution_count": 203,
   "metadata": {},
   "outputs": [
    {
     "name": "stdout",
     "output_type": "stream",
     "text": [
      "Top 5 Models and Makes with the highest total uninjured:\n",
      "Model: 737, Make: Boeing, Total Uninjured: 20390.0\n",
      "Model: 777, Make: Boeing, Total Uninjured: 8076.0\n",
      "Model: DC-10-10, Make: Mcdonnell Douglas, Total Uninjured: 5548.0\n",
      "Model: 767, Make: Boeing, Total Uninjured: 5130.0\n",
      "Model: 737, Make: Boeing, Total Uninjured: 4572.0\n"
     ]
    }
   ],
   "source": [
    "# Find the top 5 models and makes with the highest number of Total Uninjured\n",
    "top_5_uninjured = make_model_injury.nlargest(5, 'Total.Uninjured')\n",
    "\n",
    "# Print the top 5\n",
    "print(\"Top 5 Models and Makes with the highest total uninjured:\")\n",
    "for index, row in top_5_uninjured.iterrows():\n",
    "    print(f\"Model: {row['Model']}, Make: {row['Make']}, Total Uninjured: {row['Total.Uninjured']}\")"
   ]
  },
  {
   "cell_type": "markdown",
   "metadata": {},
   "source": [
    "### 1.6.c.2 Visualizing Groupby 'Weather.Condition' and 'Broad.phase.of.flight'"
   ]
  },
  {
   "cell_type": "code",
   "execution_count": 204,
   "metadata": {},
   "outputs": [
    {
     "name": "stdout",
     "output_type": "stream",
     "text": [
      "   Weather.Condition Broad.phase.of.flight  Events\n",
      "0                IMC              Approach     788\n",
      "1                IMC                 Climb     230\n",
      "2                IMC                Cruise    1379\n",
      "3                IMC               Descent     180\n",
      "4                IMC             Go-around     130\n",
      "5                IMC               Landing     330\n",
      "6                IMC           Maneuvering     362\n",
      "7                IMC                 Other       2\n",
      "8                IMC              Standing      19\n",
      "9                IMC               Takeoff     368\n",
      "10               IMC                  Taxi      44\n",
      "11               IMC               Unknown      53\n",
      "12               UNK              Approach      31\n",
      "13               UNK                 Climb      21\n",
      "14               UNK                Cruise     207\n",
      "15               UNK               Descent      18\n",
      "16               UNK             Go-around       3\n",
      "17               UNK               Landing      52\n",
      "18               UNK           Maneuvering      60\n",
      "19               UNK                 Other       2\n",
      "20               UNK              Standing      16\n",
      "21               UNK               Takeoff      36\n",
      "22               UNK                  Taxi       9\n",
      "23               UNK               Unknown      80\n",
      "24               VMC              Approach    4262\n",
      "25               VMC                 Climb    1360\n",
      "26               VMC                Cruise    6601\n",
      "27               VMC               Descent    1287\n",
      "28               VMC             Go-around     933\n",
      "29               VMC               Landing   11314\n",
      "30               VMC           Maneuvering    6040\n",
      "31               VMC                 Other      89\n",
      "32               VMC              Standing     592\n",
      "33               VMC               Takeoff    9556\n",
      "34               VMC                  Taxi    1341\n",
      "35               VMC               Unknown     331\n"
     ]
    }
   ],
   "source": [
    "# Group by Weather.Condition and Broad.phase.of.flight and count incidents to help see whether the two are related\n",
    "weather_phase_summary = Aviation_data.groupby(['Weather.Condition', 'Broad.phase.of.flight']).size().reset_index(name='Events')\n",
    "print(weather_phase_summary)"
   ]
  },
  {
   "cell_type": "code",
   "execution_count": 205,
   "metadata": {},
   "outputs": [
    {
     "name": "stderr",
     "output_type": "stream",
     "text": [
      "C:\\Users\\USER\\AppData\\Local\\Temp\\ipykernel_26380\\4192228275.py:9: FutureWarning: \n",
      "\n",
      "Passing `palette` without assigning `hue` is deprecated and will be removed in v0.14.0. Assign the `x` variable to `hue` and set `legend=False` for the same effect.\n",
      "\n",
      "  sns.barplot(x='Weather.Condition', y='Events', data=top5_weather, palette='Blues_d')\n"
     ]
    },
    {
     "data": {
      "image/png": "[encoded data removed]",
      "text/plain": [
       "<Figure size 1000x600 with 1 Axes>"
      ]
     },
     "metadata": {},
     "output_type": "display_data"
    }
   ],
   "source": [
    "# Group by Weather.Condition and count the total events\n",
    "weather_summary = weather_phase_summary.groupby('Weather.Condition')['Events'].sum().reset_index()\n",
    "\n",
    "# Sort and select the top 5 weather conditions\n",
    "top5_weather = weather_summary.sort_values(by='Events', ascending=False).head(5)\n",
    "\n",
    "# Plot the top 5 weather conditions\n",
    "plt.figure(figsize=(10, 6))\n",
    "sns.barplot(x='Weather.Condition', y='Events', data=top5_weather, palette='Blues_d')\n",
    "plt.title('Top 5 Weather Conditions Contributing to the Highest Number of Events')\n",
    "plt.xlabel('Weather Condition')\n",
    "plt.ylabel('Number of Events')\n",
    "plt.xticks(rotation=45)\n",
    "plt.show()"
   ]
  },
  {
   "cell_type": "markdown",
   "metadata": {},
   "source": [
    "### 1.6.c.3 Visualizing Groupby 'Broad.phase.of.flight' and the number of events"
   ]
  },
  {
   "cell_type": "code",
   "execution_count": 206,
   "metadata": {},
   "outputs": [
    {
     "name": "stderr",
     "output_type": "stream",
     "text": [
      "C:\\Users\\USER\\AppData\\Local\\Temp\\ipykernel_26380\\1347853230.py:9: FutureWarning: \n",
      "\n",
      "Passing `palette` without assigning `hue` is deprecated and will be removed in v0.14.0. Assign the `x` variable to `hue` and set `legend=False` for the same effect.\n",
      "\n",
      "  sns.barplot(x='Broad.phase.of.flight', y='Events', data=top5_phases, palette='Reds_d')\n"
     ]
    },
    {
     "data": {
      "image/png": "[encoded data removed]",
      "text/plain": [
       "<Figure size 1000x600 with 1 Axes>"
      ]
     },
     "metadata": {},
     "output_type": "display_data"
    }
   ],
   "source": [
    "# Group by Broad.phase.of.flight and count the total events\n",
    "phase_summary = weather_phase_summary.groupby('Broad.phase.of.flight')['Events'].sum().reset_index()\n",
    "\n",
    "# Sort and select the top 5 phases of flight\n",
    "top5_phases = phase_summary.sort_values(by='Events', ascending=False).head(5)\n",
    "\n",
    "# Plot the top 5 broad phases of flight\n",
    "plt.figure(figsize=(10, 6))\n",
    "sns.barplot(x='Broad.phase.of.flight', y='Events', data=top5_phases, palette='Reds_d')\n",
    "plt.title('Top 5 Phases of Flight with the Highest Number of Events')\n",
    "plt.xlabel('Broad Phase of Flight')\n",
    "plt.ylabel('Number of Events')\n",
    "plt.xticks(rotation=45)\n",
    "plt.show()\n"
   ]
  },
  {
   "cell_type": "markdown",
   "metadata": {},
   "source": [
    "### 1.6.c.4 Visualizing Groupby 'Year' and number of Incidents/events"
   ]
  },
  {
   "cell_type": "code",
   "execution_count": 207,
   "metadata": {},
   "outputs": [
    {
     "name": "stdout",
     "output_type": "stream",
     "text": [
      "    Year  Incidents\n",
      "0   1948          1\n",
      "1   1962          1\n",
      "2   1977          1\n",
      "3   1979          1\n",
      "4   1981          1\n",
      "5   1982       3497\n",
      "6   1983       3496\n",
      "7   1984       3386\n",
      "8   1985       3036\n",
      "9   1986       2821\n",
      "10  1987       2756\n",
      "11  1988       2659\n",
      "12  1989       2485\n",
      "13  1990       2455\n",
      "14  1991       2390\n",
      "15  1992       2315\n",
      "16  1993       2271\n",
      "17  1994       2208\n",
      "18  1995       2263\n",
      "19  1996       2137\n",
      "20  1997       2077\n",
      "21  1998       2136\n",
      "22  1999       2116\n",
      "23  2000       2062\n",
      "24  2001         56\n",
      "25  2002         55\n",
      "26  2003         82\n",
      "27  2004         57\n",
      "28  2005         63\n",
      "29  2006         69\n",
      "30  2007        151\n",
      "31  2008       1887\n",
      "32  2009       1770\n",
      "33  2010       1778\n",
      "34  2011       1842\n",
      "35  2012       1819\n",
      "36  2013       1557\n",
      "37  2014       1534\n",
      "38  2015       1581\n",
      "39  2016       1663\n",
      "40  2017       1638\n",
      "41  2018       1681\n",
      "42  2019       1624\n",
      "43  2020       1392\n",
      "44  2021       1545\n",
      "45  2022       1581\n",
      "    Year  Total.Fatal.Injuries  Total.Serious.Injuries\n",
      "0   1948                   2.0                     0.0\n",
      "1   1962                   4.0                     0.0\n",
      "2   1977                   2.0                     0.0\n",
      "3   1979                   1.0                     2.0\n",
      "4   1981                   4.0                     0.0\n",
      "5   1982                1500.0                   711.0\n",
      "6   1983                1237.0                   660.0\n",
      "7   1984                1178.0                   688.0\n",
      "8   1985                1586.0                   586.0\n",
      "9   1986                1035.0                   604.0\n",
      "10  1987                1179.0                   545.0\n",
      "11  1988                1170.0                   609.0\n",
      "12  1989                1470.0                   513.0\n",
      "13  1990                 947.0                   575.0\n",
      "14  1991                 996.0                   514.0\n",
      "15  1992                1231.0                   599.0\n",
      "16  1993                 830.0                   493.0\n",
      "17  1994                1125.0                   521.0\n",
      "18  1995                1189.0                   474.0\n",
      "19  1996                1789.0                   528.0\n",
      "20  1997                1173.0                   491.0\n",
      "21  1998                1251.0                   375.0\n",
      "22  1999                 908.0                   480.0\n",
      "23  2000                1312.0                   487.0\n",
      "24  2001                 107.0                   124.0\n",
      "25  2002                 248.0                   131.0\n",
      "26  2003                 568.0                   168.0\n",
      "27  2004                 179.0                   174.0\n",
      "28  2005                 295.0                   158.0\n",
      "29  2006                 372.0                   187.0\n",
      "30  2007                 201.0                   154.0\n",
      "31  2008                1200.0                   754.0\n",
      "32  2009                1182.0                   597.0\n",
      "33  2010                1358.0                   609.0\n",
      "34  2011                 926.0                   479.0\n",
      "35  2012                1007.0                   447.0\n",
      "36  2013                 822.0                   675.0\n",
      "37  2014                1427.0                   455.0\n",
      "38  2015                1101.0                   464.0\n",
      "39  2016                 820.0                   488.0\n",
      "40  2017                 640.0                   426.0\n",
      "41  2018                1044.0                   594.0\n",
      "42  2019                 960.0                   386.0\n",
      "43  2020                 770.0                   493.0\n",
      "44  2021                 589.0                   346.0\n",
      "45  2022                 651.0                   370.0\n"
     ]
    }
   ],
   "source": [
    "# Group by Year and count the number of events each year\n",
    "yearly_incidents = Aviation_data.groupby('Year').size().reset_index(name='Incidents')\n",
    "print(yearly_incidents)\n",
    "\n",
    "# Group by Year and sum up the total fatalities and serious injuries\n",
    "yearly_summary = Aviation_data.groupby('Year')[['Total.Fatal.Injuries', 'Total.Serious.Injuries']].sum().reset_index()\n",
    "print(yearly_summary)"
   ]
  },
  {
   "cell_type": "code",
   "execution_count": 208,
   "metadata": {},
   "outputs": [
    {
     "data": {
      "image/png": "[encoded data removed]",
      "text/plain": [
       "<Figure size 1200x1000 with 2 Axes>"
      ]
     },
     "metadata": {},
     "output_type": "display_data"
    }
   ],
   "source": [
    "# Ensure 'Year' is an integer\n",
    "Aviation_data['Year'] = pd.to_numeric(Aviation_data['Year'], errors='coerce')\n",
    "\n",
    "# Create a new column for 5-year intervals\n",
    "Aviation_data['Year_Group'] = (Aviation_data['Year'] // 5) * 5\n",
    "\n",
    "# Group by Year_Group and count the number of events each interval\n",
    "yearly_incidents = Aviation_data.groupby('Year_Group').size().reset_index(name='Incidents')\n",
    "\n",
    "# Group by Year_Group and sum up the total injuries and uninjured\n",
    "yearly_summary = Aviation_data.groupby('Year_Group')[['Total_Injured', 'Total.Uninjured']].sum().reset_index()\n",
    "\n",
    "# Create a figure with multiple subplots\n",
    "fig, (ax1, ax2) = plt.subplots(2, 1, figsize=(12, 10))\n",
    "\n",
    "# Plot for the number of incidents\n",
    "ax1.plot(yearly_incidents['Year_Group'], yearly_incidents['Incidents'], marker='o', linestyle='-', color='b')\n",
    "ax1.set_title('Number of Aviation Incidents per 5-Year Interval')\n",
    "ax1.set_xlabel('Year')\n",
    "ax1.set_ylabel('Number of Incidents')\n",
    "\n",
    "# Plot for total injuries and uninjured\n",
    "ax2.plot(yearly_summary['Year_Group'], yearly_summary['Total_Injured'], marker='o', linestyle='-', color='r', label='Total Injured')\n",
    "ax2.plot(yearly_summary['Year_Group'], yearly_summary['Total.Uninjured'], marker='o', linestyle='-', color='orange', label='Total Uninjured')\n",
    "ax2.set_title('Total Injured and Uninjured per 5-Year Interval')\n",
    "ax2.set_xlabel('Year')\n",
    "ax2.set_ylabel('Number of Individuals')\n",
    "ax2.legend()\n",
    "\n",
    "plt.tight_layout()\n",
    "plt.show()"
   ]
  },
  {
   "cell_type": "code",
   "execution_count": 209,
   "metadata": {},
   "outputs": [],
   "source": [
    "Aviation_data.to_csv('AviationData_clean.csv', index=False)"
   ]
  },
  {
   "cell_type": "markdown",
   "metadata": {},
   "source": [
    "## Conclusion\n",
    "Based on my analysis, we've been able to identify trends in the aircraft risk factors, including injury severity, accident frequency as well as other external factors. Our analysis highlights three main recommendations, ie:\n",
    "1. prioritize aircraft with low accident and injury records\n",
    "2. Avoid makes and/or models associated with severe accidents under specific weather conditions\n",
    "3. Focus on operational safety improvements for higher-risk models"
   ]
  },
  {
   "cell_type": "markdown",
   "metadata": {},
   "source": []
  }
 ],
 "metadata": {
  "kernelspec": {
   "display_name": "base",
   "language": "python",
   "name": "python3"
  },
  "language_info": {
   "codemirror_mode": {
    "name": "ipython",
    "version": 3
   },
   "file_extension": ".py",
   "mimetype": "text/x-python",
   "name": "python",
   "nbconvert_exporter": "python",
   "pygments_lexer": "ipython3",
   "version": "3.12.3"
  }
 },
 "nbformat": 4,
 "nbformat_minor": 2
}
